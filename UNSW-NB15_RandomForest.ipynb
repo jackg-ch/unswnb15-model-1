{
 "cells": [
  {
   "cell_type": "markdown",
   "metadata": {},
   "source": [
    "# UNSW-NB15 Random Forest"
   ]
  },
  {
   "cell_type": "code",
   "execution_count": 25,
   "metadata": {},
   "outputs": [],
   "source": [
    "# Python ≥3.5 is required\n",
    "import sys\n",
    "assert sys.version_info >= (3, 5)\n",
    "\n",
    "# Scikit-Learn ≥0.20 is required\n",
    "import sklearn\n",
    "assert sklearn.__version__ >= \"0.20\"\n",
    "from sklearn.model_selection import train_test_split\n",
    "from sklearn.ensemble import RandomForestClassifier\n",
    "from sklearn.ensemble import VotingClassifier\n",
    "from sklearn.linear_model import LogisticRegression\n",
    "from sklearn.svm import SVC\n",
    "from sklearn.feature_extraction import FeatureHasher\n",
    "\n",
    "# Common imports\n",
    "import numpy as np\n",
    "import os\n",
    "import pandas as pd\n",
    "\n",
    "# to make this notebook's output stable across runs\n",
    "np.random.seed(42)\n",
    "\n",
    "# To plot pretty figures\n",
    "%matplotlib inline\n",
    "import matplotlib as mpl\n",
    "import matplotlib.pyplot as plt\n",
    "mpl.rc('axes', labelsize=14)\n",
    "mpl.rc('xtick', labelsize=12)\n",
    "mpl.rc('ytick', labelsize=12)\n",
    "\n",
    "# Where to save the figures\n",
    "PROJECT_ROOT_DIR = \".\"\n",
    "CHAPTER_ID = \"ensembles\"\n",
    "IMAGES_PATH = os.path.join(PROJECT_ROOT_DIR, \"images\", CHAPTER_ID)\n",
    "os.makedirs(IMAGES_PATH, exist_ok=True)\n",
    "\n",
    "def save_fig(fig_id, tight_layout=True, fig_extension=\"png\", resolution=300):\n",
    "    path = os.path.join(IMAGES_PATH, fig_id + \".\" + fig_extension)\n",
    "    print(\"Saving figure\", fig_id)\n",
    "    if tight_layout:\n",
    "        plt.tight_layout()\n",
    "    plt.savefig(path, format=fig_extension, dpi=resolution)"
   ]
  },
  {
   "cell_type": "markdown",
   "metadata": {},
   "source": [
    "## File System"
   ]
  },
  {
   "cell_type": "code",
   "execution_count": 26,
   "metadata": {},
   "outputs": [],
   "source": [
    "DATA_DIR =  \"/Users/jackgraham/misc/handson-ml2/datasets/unsw/\"\n",
    "testing_fname = \"UNSW_NB15_testing-set.csv\"\n",
    "training_fname = \"UNSW_NB15_training-set.csv\""
   ]
  },
  {
   "cell_type": "markdown",
   "metadata": {},
   "source": [
    "## Reading Files and Column Labeling"
   ]
  },
  {
   "cell_type": "code",
   "execution_count": 27,
   "metadata": {},
   "outputs": [],
   "source": [
    "df1 = pd.read_csv(DATA_DIR + training_fname)\n",
    "df2 =  pd.read_csv(DATA_DIR  + testing_fname)\n",
    "df = df1.append(df2)\n",
    "\n",
    "\n",
    "label_column = ['label']\n",
    "categorical_columns = ['proto', 'service', 'state']\n",
    "drop_columns = ['id', 'sttl', 'dttl', 'swin', 'dwin', 'trans_depth', 'response_body_len', 'ct_srv_src', 'ct_state_ttl', 'ct_dst_ltm', 'ct_src_dport_ltm', 'ct_dst_sport_ltm', 'ct_dst_src_ltm', 'is_ftp_login', 'ct_ftp_cmd', 'ct_flw_http_mthd', 'ct_src_ltm', 'ct_srv_dst', 'is_sm_ips_ports', 'attack_cat']\n",
    "numeric_columns = list(set(df.columns) - set(label_column) - set(categorical_columns) - set(drop_columns))"
   ]
  },
  {
   "cell_type": "markdown",
   "metadata": {},
   "source": [
    "## Preprocessing"
   ]
  },
  {
   "cell_type": "code",
   "execution_count": 28,
   "metadata": {},
   "outputs": [
    {
     "name": "stdout",
     "output_type": "stream",
     "text": [
      "<class 'pandas.core.series.Series'>\n"
     ]
    },
    {
     "data": {
      "text/plain": [
       "133"
      ]
     },
     "execution_count": 28,
     "metadata": {},
     "output_type": "execute_result"
    }
   ],
   "source": [
    "print(type(df['proto']))\n",
    "len(df['proto'].unique())"
   ]
  },
  {
   "cell_type": "markdown",
   "metadata": {},
   "source": [
    "### Categorical Columns Hash Trick"
   ]
  },
  {
   "cell_type": "code",
   "execution_count": 48,
   "metadata": {},
   "outputs": [],
   "source": [
    "# https://scikit-learn.org/stable/modules/generated/sklearn.feature_extraction.FeatureHasher.html\n",
    "def column_hash_trick(categorical_column, n_hash_features):\n",
    "    \"\"\"Turns categorical columns into hashed with hash trick.\n",
    "    \n",
    "    Args:\n",
    "        categorical_column: Pandas Series.\n",
    "        n_hash_features: Integer for number of hash features desired.\n",
    "        \n",
    "    Returns:\n",
    "        scipy.sparse.csr.csr_matrix of hash features.\n",
    "    \n",
    "    \"\"\"\n",
    "    categories = categorical_column.unique()\n",
    "    h = FeatureHasher(n_features=n_hash_features, input_type='string')\n",
    "    return h.transform(categories)\n",
    "    "
   ]
  },
  {
   "cell_type": "code",
   "execution_count": 50,
   "metadata": {},
   "outputs": [
    {
     "name": "stdout",
     "output_type": "stream",
     "text": [
      "[[ 0. -1. -1.  0. -1.]\n",
      " [ 0. -1.  1.  0.  1.]\n",
      " [ 2. -1.  0.  0.  0.]\n",
      " [ 0. -1.  0.  2. -1.]\n",
      " [ 0. -1. -1.  0.  0.]\n",
      " [ 0. -1. -1.  0.  0.]\n",
      " [ 1. -1.  0.  0. -1.]\n",
      " [ 0. -1.  0.  0.  2.]\n",
      " [ 3. -2. -1.  0. -1.]\n",
      " [ 0. -1. -1.  1. -1.]\n",
      " [ 0. -1.  0.  0. -2.]\n",
      " [ 0. -2.  0. -1.  0.]\n",
      " [ 1. -4.  0.  1.  0.]\n",
      " [ 0.  0.  0.  0. -1.]\n",
      " [ 1. -2. -1.  0. -1.]\n",
      " [ 1.  1.  0.  1. -4.]\n",
      " [-1. -2. -1.  0.  0.]\n",
      " [ 0.  0.  1.  0. -3.]\n",
      " [ 0. -3.  0.  1. -2.]\n",
      " [ 0. -1.  0.  1. -1.]\n",
      " [ 0. -1.  1.  0.  0.]\n",
      " [ 1.  0.  1.  0. -2.]\n",
      " [ 0.  0.  0.  1. -2.]\n",
      " [ 1. -1. -1.  0.  0.]\n",
      " [ 2. -2.  1.  0. -1.]\n",
      " [ 1. -2.  0.  0.  1.]\n",
      " [ 1. -1.  0.  0. -1.]\n",
      " [ 0. -3.  0.  0.  0.]\n",
      " [ 2. -2.  1.  1. -1.]\n",
      " [ 0. -1. -1.  1. -1.]\n",
      " [ 1. -1.  0. -1. -1.]\n",
      " [ 0. -1.  0.  1. -2.]\n",
      " [ 0.  0.  0. -1. -1.]\n",
      " [ 0. -2.  0.  0.  0.]\n",
      " [ 0. -1. -1.  0.  1.]\n",
      " [ 1. -2. -1.  0.  1.]\n",
      " [ 2.  1.  0.  0.  0.]\n",
      " [ 0.  0. -1.  0. -1.]\n",
      " [ 0. -2.  0.  0. -2.]\n",
      " [ 0. -1.  0.  0.  0.]\n",
      " [ 0.  0. -1.  0.  0.]\n",
      " [ 1. -2. -1.  0. -1.]\n",
      " [ 0.  0.  0.  1.  1.]\n",
      " [ 1.  0.  0. -1.  1.]\n",
      " [ 0. -1.  1.  1.  1.]\n",
      " [ 2. -1.  0.  0. -1.]\n",
      " [ 0.  0. -1.  1.  0.]\n",
      " [ 0. -3.  0.  0.  1.]\n",
      " [ 0. -2. -1.  1.  0.]\n",
      " [ 1. -2.  0.  0. -2.]\n",
      " [ 2. -2.  0.  1. -2.]\n",
      " [ 1. -3.  0.  0. -3.]\n",
      " [ 0. -1.  0.  0. -2.]\n",
      " [ 0. -2. -1. -1.  0.]\n",
      " [ 2.  0.  0.  1. -5.]\n",
      " [ 0. -1.  0.  0. -2.]\n",
      " [ 0.  0. -1.  1. -1.]\n",
      " [ 0. -2. -1.  1. -4.]\n",
      " [ 2. -3. -1.  0. -2.]\n",
      " [ 2. -1.  0.  0. -2.]\n",
      " [ 0.  0. -3.  1.  0.]\n",
      " [ 0. -1. -1.  0. -2.]\n",
      " [-1.  0.  0.  1. -1.]\n",
      " [ 0. -1. -1.  0. -2.]\n",
      " [ 0. -2.  0.  0.  1.]\n",
      " [ 2. -1.  0.  0. -1.]\n",
      " [ 0. -1.  0.  0.  0.]\n",
      " [ 1. -1. -1.  1.  1.]\n",
      " [ 2. -1.  0. -1.  0.]\n",
      " [ 1. -2.  0.  0. -1.]\n",
      " [ 0. -1.  0.  0. -2.]\n",
      " [ 0.  0.  1.  0. -1.]\n",
      " [ 1. -1.  0.  0. -1.]\n",
      " [ 0.  1.  0.  0. -1.]\n",
      " [ 0. -2.  0.  0. -2.]\n",
      " [ 0.  0.  0.  0. -1.]\n",
      " [ 1. -1.  0.  1.  1.]\n",
      " [ 0. -2.  0.  0. -1.]\n",
      " [ 1. -1. -1.  0. -1.]\n",
      " [ 0. -1.  0.  0. -2.]\n",
      " [ 1. -2.  0.  0. -2.]\n",
      " [ 1. -2.  0.  0.  1.]\n",
      " [ 0. -3.  0.  0. -1.]\n",
      " [ 1.  0.  0.  0.  0.]\n",
      " [ 2. -1.  1.  0.  0.]\n",
      " [ 0. -4.  0.  0.  0.]\n",
      " [ 0. -1. -1.  0.  0.]\n",
      " [ 1. -1. -1.  0.  0.]\n",
      " [ 0. -1.  0.  1.  0.]\n",
      " [ 0. -1.  0.  0.  1.]\n",
      " [ 1.  0.  0.  0.  0.]\n",
      " [ 1. -2.  0. -1.  0.]\n",
      " [ 0. -2.  1.  0. -3.]\n",
      " [ 0. -4.  0.  1. -3.]\n",
      " [ 1. -1.  0.  0.  0.]\n",
      " [ 0. -1.  1.  0. -2.]\n",
      " [ 1.  0. -1.  0.  1.]\n",
      " [ 0.  0.  0.  0.  0.]\n",
      " [ 0.  0.  0.  1.  2.]\n",
      " [ 0. -3. -1.  0.  0.]\n",
      " [ 1. -1.  0. -1. -1.]\n",
      " [ 1.  0.  0. -1. -1.]\n",
      " [ 0. -1.  1.  0. -1.]\n",
      " [ 0. -1.  0. -1. -1.]\n",
      " [ 1. -1.  0.  0.  1.]\n",
      " [ 0. -2.  1.  0. -1.]\n",
      " [ 0. -1. -2.  0.  0.]\n",
      " [ 0. -2.  0.  0.  0.]\n",
      " [ 0. -4.  0.  0. -1.]\n",
      " [ 0.  1.  0.  0. -2.]\n",
      " [ 2.  0.  0.  0. -1.]\n",
      " [ 1. -2. -2.  0. -2.]\n",
      " [ 0. -1. -1.  0.  1.]\n",
      " [ 0.  1. -1.  1.  0.]\n",
      " [ 0. -2. -1.  0.  0.]\n",
      " [ 0. -1.  0. -1. -1.]\n",
      " [ 0. -2.  1.  0.  0.]\n",
      " [ 0.  0.  0.  1. -1.]\n",
      " [ 0.  0. -1.  1. -1.]\n",
      " [ 0.  1.  1.  1.  0.]\n",
      " [ 0.  0. -1.  0.  0.]\n",
      " [-1.  0.  0.  0.  0.]\n",
      " [ 1.  0.  0.  0.  0.]\n",
      " [ 1. -1.  0.  0. -3.]\n",
      " [ 0. -2.  0.  1. -2.]\n",
      " [ 1.  0.  0.  1.  0.]\n",
      " [ 1.  1.  1.  1.  0.]\n",
      " [ 1. -1.  0.  0.  1.]\n",
      " [ 1. -2.  0.  0. -1.]\n",
      " [ 0. -2. -1.  1. -3.]\n",
      " [ 0. -1.  1.  0. -2.]\n",
      " [ 1.  0.  1.  0. -3.]\n",
      " [ 0. -1. -1.  0. -1.]]\n"
     ]
    },
    {
     "data": {
      "text/plain": [
       "scipy.sparse.csr.csr_matrix"
      ]
     },
     "execution_count": 50,
     "metadata": {},
     "output_type": "execute_result"
    }
   ],
   "source": [
    "f = column_hash_trick(df['proto'])\n",
    "print(f.toarray())\n",
    "np.array(f.toarray()).shape\n",
    "type(f)"
   ]
  },
  {
   "cell_type": "code",
   "execution_count": null,
   "metadata": {},
   "outputs": [],
   "source": [
    "# Add to dataframe\n",
    "#pd.concat([df[['Genre', 'Publisher']], pd.DataFrame(hashed_features1),pd.DataFrame(hashed_features2)],\n",
    "#axis=1)\n",
    "ct = ColumnTransformer(['hash_proto', FeatureHasher(5, input_type='string'), 'proto'])\n",
    "\n"
   ]
  },
  {
   "cell_type": "code",
   "execution_count": null,
   "metadata": {},
   "outputs": [],
   "source": []
  }
 ],
 "metadata": {
  "kernelspec": {
   "display_name": "Python 3",
   "language": "python",
   "name": "python3"
  },
  "language_info": {
   "codemirror_mode": {
    "name": "ipython",
    "version": 3
   },
   "file_extension": ".py",
   "mimetype": "text/x-python",
   "name": "python",
   "nbconvert_exporter": "python",
   "pygments_lexer": "ipython3",
   "version": "3.7.6"
  }
 },
 "nbformat": 4,
 "nbformat_minor": 4
}
